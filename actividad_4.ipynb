{
  "nbformat": 4,
  "nbformat_minor": 0,
  "metadata": {
    "colab": {
      "provenance": [],
      "authorship_tag": "ABX9TyNK1MaJlMABUMMOJY+LPHpB",
      "include_colab_link": true
    },
    "kernelspec": {
      "name": "python3",
      "display_name": "Python 3"
    },
    "language_info": {
      "name": "python"
    }
  },
  "cells": [
    {
      "cell_type": "markdown",
      "metadata": {
        "id": "view-in-github",
        "colab_type": "text"
      },
      "source": [
        "<a href=\"https://colab.research.google.com/github/Mateu2006/PROGRAMACION/blob/main/actividad_4.ipynb\" target=\"_parent\"><img src=\"https://colab.research.google.com/assets/colab-badge.svg\" alt=\"Open In Colab\"/></a>"
      ]
    },
    {
      "cell_type": "code",
      "execution_count": null,
      "metadata": {
        "id": "KKVQDVJ9etmj",
        "colab": {
          "base_uri": "https://localhost:8080/"
        },
        "outputId": "9e0f1750-b163-4fbb-c945-1d041b9974b4"
      },
      "outputs": [
        {
          "output_type": "stream",
          "name": "stdout",
          "text": [
            "Introduzca su nombre: Mateu\n",
            "Introduzca su primer apellido: Ferrer\n",
            "Introduzca su segundo apellido: Suau\n",
            "Su nombre completo es: \n",
            "Mateu Ferrer Suau\n"
          ]
        }
      ],
      "source": [
        "# El programa pide el nombre y apelidos en variables separadas\n",
        "# y queremos mostrar por pantalla el nombre y apellidos juntos\n",
        "\n",
        "# El usuario introduce el nombre \n",
        "nombre=input(\"Introduzca su nombre: \")\n",
        "apellido1=input(\"Introduzca su primer apellido: \")\n",
        "apellido2=input(\"Introduzca su segundo apellido: \")\n",
        "\n",
        "# Mostramos por pantalla con un solo print la información\n",
        "print(\"Su nombre completo es: \")\n",
        "print(nombre,apellido1,apellido2)"
      ]
    }
  ]
}